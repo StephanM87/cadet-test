{
 "cells": [
  {
   "attachments": {},
   "cell_type": "markdown",
   "metadata": {},
   "source": [
    "# Example for a parameter estimation"
   ]
  },
  {
   "cell_type": "code",
   "execution_count": 1,
   "metadata": {},
   "outputs": [],
   "source": [
    "from CADETProcess.comparison import Comparator\n",
    "from CADETProcess.reference import ReferenceIO\n",
    "import numpy as np\n",
    "\n",
    "time  = np.array([0,1,2,3,4])\n",
    "concentrations = np.array([15, 13.60707976,11.37628152,10.48811636, 9.72366553 ])\n",
    "comparator = Comparator()\n",
    "\n",
    "\n",
    "\n",
    "\n",
    "reference = ReferenceIO('dextran experiment', time, concentrations)\n",
    "\n",
    "comparator.add_difference_metric(\n",
    "    'SSE', reference, 'column.outlet', start=5*60, end=7*60\n",
    ")\n",
    "\n",
    "# metrices = \"shape metric\""
   ]
  }
 ],
 "metadata": {
  "kernelspec": {
   "display_name": "cadet",
   "language": "python",
   "name": "python3"
  },
  "language_info": {
   "codemirror_mode": {
    "name": "ipython",
    "version": 3
   },
   "file_extension": ".py",
   "mimetype": "text/x-python",
   "name": "python",
   "nbconvert_exporter": "python",
   "pygments_lexer": "ipython3",
   "version": "3.10.9"
  },
  "orig_nbformat": 4,
  "vscode": {
   "interpreter": {
    "hash": "54698516e21954214592e9fbb6d4115cba3e6a2b19539a27654baf4a63aa71ea"
   }
  }
 },
 "nbformat": 4,
 "nbformat_minor": 2
}
